{
 "cells": [
  {
   "cell_type": "code",
   "execution_count": null,
   "metadata": {},
   "outputs": [
    {
     "name": "stdout",
     "output_type": "stream",
     "text": [
      "'[서울 용산] 3선 정창훈 \"단결하고 소통하는 약사회\"\\n2025-01-20 08:58:58'\n",
      "('[데일리팜=강혜경 기자] 정창훈 서울 용산구약사회장이 3선에 성공했다. 용산구약사회는 18일 DB손해보험 대강당에서 제67회 정기총회를 '\n",
      " '열고 정창훈 회...')\n",
      "'[서울 강서] 제20대 회장에 이신성…득표율 59.2%\\n2025-01-18 22:13:50'\n",
      "('[데일리팜=강혜경 기자] 서울 강서구약사회 제20대 회장에 기호 1번 이신성 후보(52, 외국대)가 선출됐다. 이신성 후보는 총 179표 '\n",
      " '가운데 106표를 득표...')\n",
      "'[서울 송파] 최명수 신임회장 추대...고문변호사 영입 약속\\n2025-01-18 20:30:01'\n",
      "('[데일리팜=정흥준 기자] 서울 송파구약사회 신임 회장에 최명수(중앙대, 52) 이사가 만장일치로 추대됐다. 구약사회는 오늘(18일) '\n",
      " '한성백제박물관에서 ...')\n"
     ]
    }
   ],
   "source": [
    "from selenium import webdriver\n",
    "from selenium.webdriver.common.by import By\n",
    "from selenium.webdriver.chrome.options import Options\n",
    "\n",
    "from datetime import datetime\n",
    "from datetime import datetime, timedelta    # 날짜계산\n",
    "\n",
    "import time                                 # 시간 딜레이 설정 모듈\n",
    "import pprint                               # 보기좋게 출력하기 모듈\n",
    "\n",
    "Options = Options()\n",
    "Options.add_argument(\"--start-maximized\")\n",
    "# Options.add_experimental_option(\"detach\", True)     # 웹드라이버 종료돼도 안닫히게 옵션(디버그용)\n",
    "\n",
    "# 날짜변수를 yyyy-mm-dd 형식으로 설정\n",
    "# 기사 조회기간 변수 설정 -> 2일전~ 오늘까지\n",
    "two_days_ago = datetime.now() - timedelta(days=2)\n",
    "sdate = two_days_ago.strftime('%Y-%m-%d')           # 2일 전 날짜부터터\n",
    "edate = datetime.now().strftime('%Y-%m-%d')         # 오늘까지지\n",
    "\n",
    "# 품절 키워드로 2일 전부터 오늘까지 기사 검색\n",
    "driver = webdriver.Chrome(options=Options)\n",
    "driver.get(f\"https://www.dailypharm.com/Users/News/NewsSearch.html?mode=&dpsearch=%C7%B0%C0%FD&nSection=&nKind=&Type=&stDate={sdate}&edDate={edate}\")\n",
    "time.sleep(2)                               # 웹페이지 열리는 간격 설정(오류예방)\n",
    "\n",
    "# 검색결과 요소를 가져옵니다.\n",
    "list_head_elements = driver.find_elements(By.CLASS_NAME, \"listHead\")\n",
    "list_content_elements = driver.find_elements(By.CLASS_NAME, \"listContent\")\n",
    "\n",
    "# 기사제목\n",
    "list_head_values = [element.text for element in list_head_elements]\n",
    "# list_head_values = []   # 신규 리스트 정의\n",
    "# for element in list_head_elements: \n",
    "#     list_head_values.append(element.text)\n",
    "# 기사요약\n",
    "list_content_values = [element.text for element in list_content_elements]\n",
    "\n",
    "# 기사 출력부분\n",
    "pp = pprint.PrettyPrinter(indent=4)     # 보기좋게 출력하기pprint\n",
    "for i in range(len(list_head_values)):\n",
    "    pp.pprint(list_head_values[i])\n",
    "    pp.pprint(list_content_values[i])\n",
    "\n",
    "# 브라우저를 종료합니다.\n",
    "driver.quit()\n",
    "\n",
    "\n",
    "\n",
    "###################################\n",
    "# 구글시트에 저장하기 코드 작성부\n",
    "###################################\n",
    "\n",
    "\n",
    "\n",
    "\n",
    "###################################\n",
    "# 공유하기(카톡,메일전송 등) 코드 작성부\n",
    "###################################\n",
    "\n",
    "\n",
    "\n",
    "# exe실행파일로 배포하기\n",
    "# pip install pyinstaller\n",
    "# pyinstaller -F 파일명.py"
   ]
  }
 ],
 "metadata": {
  "kernelspec": {
   "display_name": "base",
   "language": "python",
   "name": "python3"
  },
  "language_info": {
   "codemirror_mode": {
    "name": "ipython",
    "version": 3
   },
   "file_extension": ".py",
   "mimetype": "text/x-python",
   "name": "python",
   "nbconvert_exporter": "python",
   "pygments_lexer": "ipython3",
   "version": "3.12.7"
  }
 },
 "nbformat": 4,
 "nbformat_minor": 2
}
